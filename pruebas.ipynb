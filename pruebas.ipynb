{
 "cells": [
  {
   "cell_type": "code",
   "execution_count": 12,
   "metadata": {},
   "outputs": [
    {
     "name": "stdout",
     "output_type": "stream",
     "text": [
      "[1, 0, 0, 0, 0, 0, 0, 0, 0, 0, 0, 0, 0, 0, 0, 0]\n",
      "16\n",
      "[1, 0, 0, 0, 0, 0, 0, 0, 0, 0, 0, 0, 0, 0, 0, 0]\n",
      "16\n",
      "[1, 0, 0, 0, 0, 0, 0, 0, 0, 0, 0, 0, 0, 0, 0, 0, 0]  Overflow\n",
      "65536\n"
     ]
    }
   ],
   "source": [
    "def toBinary(num: int):\n",
    "    residuos = []\n",
    "\n",
    "    while num != 0:\n",
    "        residuos.insert(0, num % 2)\n",
    "        num //= 2\n",
    "    if(len(residuos) >= 17):\n",
    "        print(residuos, \" Overflow\")\n",
    "        return residuos\n",
    "    else:\n",
    "        for i in range(0,16):\n",
    "            if len(residuos) < 16:\n",
    "                residuos.insert(0,0)\n",
    "        print(residuos)\n",
    "        print(len(residuos))\n",
    "        return residuos\n",
    "\n",
    "def Negate(residuos:list[int]):\n",
    "    for i in range(len(residuos)):\n",
    "        if residuos[i] == 0:\n",
    "            residuos.remove(0)\n",
    "            residuos.insert(i,1)\n",
    "        elif residuos[i]==1: #ver si funciona con tan solo else\n",
    "            residuos.remove(1)\n",
    "            residuos.insert(i,0)\n",
    "    print(\"C1 = \",residuos)\n",
    "    print(len(residuos))\n",
    "    return residuos\n",
    "\n",
    "\n",
    "def sum(num: int, num2: int):\n",
    "    bin1 = toBinary(num)\n",
    "    bin2 = toBinary(num2)\n",
    "    sumdec = num+num2\n",
    "    sumbin = toBinary(sumdec)\n",
    "    print(sumdec)\n",
    "\n",
    "\n",
    "entrada = input(\"introduce un número entero positivo: \")\n",
    "entrada2 = input(\"introduce otro número entero positivo: \")\n",
    "num2 = int(entrada2)\n",
    "num = int(entrada)\n",
    "if num < 0 or num2 < 0:\n",
    "    print(\"Ese número no es válido\")\n",
    "elif num > 65535 or num2 > 65535:\n",
    "    print(\"Ese número no es válido\")\n",
    "else:\n",
    "    sum(num, num2)"
   ]
  },
  {
   "cell_type": "code",
   "execution_count": 24,
   "metadata": {},
   "outputs": [
    {
     "name": "stdout",
     "output_type": "stream",
     "text": [
      "[0, 0, 0, 0, 0, 0, 0, 0, 0, 0, 0, 0, 1, 1, 1, 1]\n",
      "16\n",
      "C1 =  [1, 1, 1, 1, 1, 1, 1, 1, 1, 0, 1, 0, 1, 0, 1, 0]\n",
      "16\n"
     ]
    },
    {
     "data": {
      "text/plain": [
       "[1, 1, 1, 1, 1, 1, 1, 1, 1, 0, 1, 0, 1, 0, 1, 0]"
      ]
     },
     "execution_count": 24,
     "metadata": {},
     "output_type": "execute_result"
    }
   ],
   "source": [
    "\n",
    "def toBinary(num: int):\n",
    "    residuos = []\n",
    "\n",
    "    while num != 0:\n",
    "        residuos.insert(0, num % 2)\n",
    "        num //= 2\n",
    "    if(len(residuos) >= 17):\n",
    "        print(residuos, \" Overflow\")\n",
    "        return residuos\n",
    "    else:\n",
    "        for i in range(0,16):\n",
    "            if len(residuos) < 16:\n",
    "                residuos.insert(0,0)\n",
    "        print(residuos)\n",
    "        print(len(residuos))\n",
    "        return residuos\n",
    "\n",
    "def Negate(residuos:list[int]):\n",
    "    for i in range(len(residuos)):\n",
    "        if residuos[i] == 0:\n",
    "            residuos.remove(0)\n",
    "            residuos.insert(i,1)\n",
    "        elif residuos[i]==1: #ver si funciona con tan solo else\n",
    "            residuos.remove(1)\n",
    "            residuos.insert(i,0)\n",
    "    print(\"C1 = \",residuos)\n",
    "    print(len(residuos))\n",
    "    return residuos\n",
    "\n",
    "entrada1 = input(\"introduce un número entero positivo: \")\n",
    "num = int(entrada1)\n",
    "Negate(toBinary(num))"
   ]
  }
 ],
 "metadata": {
  "kernelspec": {
   "display_name": "Python 3.10.5 64-bit",
   "language": "python",
   "name": "python3"
  },
  "language_info": {
   "codemirror_mode": {
    "name": "ipython",
    "version": 3
   },
   "file_extension": ".py",
   "mimetype": "text/x-python",
   "name": "python",
   "nbconvert_exporter": "python",
   "pygments_lexer": "ipython3",
   "version": "3.10.5"
  },
  "orig_nbformat": 4,
  "vscode": {
   "interpreter": {
    "hash": "369f2c481f4da34e4445cda3fffd2e751bd1c4d706f27375911949ba6bb62e1c"
   }
  }
 },
 "nbformat": 4,
 "nbformat_minor": 2
}
